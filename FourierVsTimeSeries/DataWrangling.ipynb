{
 "cells": [
  {
   "cell_type": "markdown",
   "metadata": {},
   "source": [
    "# Data Wrangling – FFT-FFN Vs. TS-LSTM\n",
    "\n",
    "This notebook is for testing & developing the dataset that will be passed as input to the FFT-FFN & TS-LSTM models, it needs to have:\n",
    "- Windows as Input Vectors (4 weeks worth of market data condensed into 1 \"Window\" that is the input vector)\n",
    "  \n",
    "**Notes**\n",
    "- Samples or Windows CAN overlap! (`1, 2, 3 = Window 1` -- `2, 3, 4 = Window 2`)"
   ]
  },
  {
   "cell_type": "code",
   "execution_count": 1,
   "metadata": {},
   "outputs": [
    {
     "data": {
      "text/html": [
       "<div>\n",
       "<style scoped>\n",
       "    .dataframe tbody tr th:only-of-type {\n",
       "        vertical-align: middle;\n",
       "    }\n",
       "\n",
       "    .dataframe tbody tr th {\n",
       "        vertical-align: top;\n",
       "    }\n",
       "\n",
       "    .dataframe thead th {\n",
       "        text-align: right;\n",
       "    }\n",
       "</style>\n",
       "<table border=\"1\" class=\"dataframe\">\n",
       "  <thead>\n",
       "    <tr style=\"text-align: right;\">\n",
       "      <th></th>\n",
       "      <th>date</th>\n",
       "      <th>open</th>\n",
       "      <th>high</th>\n",
       "      <th>low</th>\n",
       "      <th>close</th>\n",
       "      <th>volume</th>\n",
       "      <th>ticker</th>\n",
       "    </tr>\n",
       "  </thead>\n",
       "  <tbody>\n",
       "    <tr>\n",
       "      <th>0</th>\n",
       "      <td>2013-02-08</td>\n",
       "      <td>15.07</td>\n",
       "      <td>15.12</td>\n",
       "      <td>14.63</td>\n",
       "      <td>14.75</td>\n",
       "      <td>8407500</td>\n",
       "      <td>AAL</td>\n",
       "    </tr>\n",
       "    <tr>\n",
       "      <th>1</th>\n",
       "      <td>2013-02-11</td>\n",
       "      <td>14.89</td>\n",
       "      <td>15.01</td>\n",
       "      <td>14.26</td>\n",
       "      <td>14.46</td>\n",
       "      <td>8882000</td>\n",
       "      <td>AAL</td>\n",
       "    </tr>\n",
       "    <tr>\n",
       "      <th>2</th>\n",
       "      <td>2013-02-12</td>\n",
       "      <td>14.45</td>\n",
       "      <td>14.51</td>\n",
       "      <td>14.10</td>\n",
       "      <td>14.27</td>\n",
       "      <td>8126000</td>\n",
       "      <td>AAL</td>\n",
       "    </tr>\n",
       "    <tr>\n",
       "      <th>3</th>\n",
       "      <td>2013-02-13</td>\n",
       "      <td>14.30</td>\n",
       "      <td>14.94</td>\n",
       "      <td>14.25</td>\n",
       "      <td>14.66</td>\n",
       "      <td>10259500</td>\n",
       "      <td>AAL</td>\n",
       "    </tr>\n",
       "    <tr>\n",
       "      <th>4</th>\n",
       "      <td>2013-02-14</td>\n",
       "      <td>14.94</td>\n",
       "      <td>14.96</td>\n",
       "      <td>13.16</td>\n",
       "      <td>13.99</td>\n",
       "      <td>31879900</td>\n",
       "      <td>AAL</td>\n",
       "    </tr>\n",
       "    <tr>\n",
       "      <th>...</th>\n",
       "      <td>...</td>\n",
       "      <td>...</td>\n",
       "      <td>...</td>\n",
       "      <td>...</td>\n",
       "      <td>...</td>\n",
       "      <td>...</td>\n",
       "      <td>...</td>\n",
       "    </tr>\n",
       "    <tr>\n",
       "      <th>658515</th>\n",
       "      <td>2018-02-01</td>\n",
       "      <td>76.84</td>\n",
       "      <td>78.27</td>\n",
       "      <td>76.69</td>\n",
       "      <td>77.82</td>\n",
       "      <td>2982259</td>\n",
       "      <td>ZTS</td>\n",
       "    </tr>\n",
       "    <tr>\n",
       "      <th>658516</th>\n",
       "      <td>2018-02-02</td>\n",
       "      <td>77.53</td>\n",
       "      <td>78.12</td>\n",
       "      <td>76.73</td>\n",
       "      <td>76.78</td>\n",
       "      <td>2595187</td>\n",
       "      <td>ZTS</td>\n",
       "    </tr>\n",
       "    <tr>\n",
       "      <th>658517</th>\n",
       "      <td>2018-02-05</td>\n",
       "      <td>76.64</td>\n",
       "      <td>76.92</td>\n",
       "      <td>73.18</td>\n",
       "      <td>73.83</td>\n",
       "      <td>2962031</td>\n",
       "      <td>ZTS</td>\n",
       "    </tr>\n",
       "    <tr>\n",
       "      <th>658518</th>\n",
       "      <td>2018-02-06</td>\n",
       "      <td>72.74</td>\n",
       "      <td>74.56</td>\n",
       "      <td>72.13</td>\n",
       "      <td>73.27</td>\n",
       "      <td>4924323</td>\n",
       "      <td>ZTS</td>\n",
       "    </tr>\n",
       "    <tr>\n",
       "      <th>658519</th>\n",
       "      <td>2018-02-07</td>\n",
       "      <td>72.70</td>\n",
       "      <td>75.00</td>\n",
       "      <td>72.69</td>\n",
       "      <td>73.86</td>\n",
       "      <td>4534912</td>\n",
       "      <td>ZTS</td>\n",
       "    </tr>\n",
       "  </tbody>\n",
       "</table>\n",
       "<p>658520 rows × 7 columns</p>\n",
       "</div>"
      ],
      "text/plain": [
       "             date   open   high    low  close    volume ticker\n",
       "0      2013-02-08  15.07  15.12  14.63  14.75   8407500    AAL\n",
       "1      2013-02-11  14.89  15.01  14.26  14.46   8882000    AAL\n",
       "2      2013-02-12  14.45  14.51  14.10  14.27   8126000    AAL\n",
       "3      2013-02-13  14.30  14.94  14.25  14.66  10259500    AAL\n",
       "4      2013-02-14  14.94  14.96  13.16  13.99  31879900    AAL\n",
       "...           ...    ...    ...    ...    ...       ...    ...\n",
       "658515 2018-02-01  76.84  78.27  76.69  77.82   2982259    ZTS\n",
       "658516 2018-02-02  77.53  78.12  76.73  76.78   2595187    ZTS\n",
       "658517 2018-02-05  76.64  76.92  73.18  73.83   2962031    ZTS\n",
       "658518 2018-02-06  72.74  74.56  72.13  73.27   4924323    ZTS\n",
       "658519 2018-02-07  72.70  75.00  72.69  73.86   4534912    ZTS\n",
       "\n",
       "[658520 rows x 7 columns]"
      ]
     },
     "execution_count": 1,
     "metadata": {},
     "output_type": "execute_result"
    }
   ],
   "source": [
    "# Will Prototype Methods on Stock Market Data\n",
    "import pandas as pd \n",
    "\n",
    "df = pd.read_csv(\"../Data Quality (Stocks)/Stocks_Cleaned.csv\")\n",
    "df.rename(columns={\"Name\":\"ticker\"}, inplace=True)\n",
    "df[\"date\"] = [pd.Timestamp(x) for x in df[\"date\"]]\n",
    "\n",
    "# Subset Data for 1 Ticker\n",
    "aapl = df[df[\"ticker\"] == \"AAPL\"]\n",
    "\n",
    "df"
   ]
  },
  {
   "cell_type": "code",
   "execution_count": 4,
   "metadata": {},
   "outputs": [
    {
     "name": "stdout",
     "output_type": "stream",
     "text": [
      "<class 'pandas.core.frame.DataFrame'>\n",
      "Int64Index: 1304 entries, 1304 to 2607\n",
      "Data columns (total 7 columns):\n",
      " #   Column  Non-Null Count  Dtype         \n",
      "---  ------  --------------  -----         \n",
      " 0   date    1304 non-null   datetime64[ns]\n",
      " 1   open    1304 non-null   float64       \n",
      " 2   high    1304 non-null   float64       \n",
      " 3   low     1304 non-null   float64       \n",
      " 4   close   1304 non-null   float64       \n",
      " 5   volume  1304 non-null   int64         \n",
      " 6   ticker  1304 non-null   object        \n",
      "dtypes: datetime64[ns](1), float64(4), int64(1), object(1)\n",
      "memory usage: 81.5+ KB\n"
     ]
    }
   ],
   "source": [
    "aapl.info()"
   ]
  },
  {
   "cell_type": "code",
   "execution_count": 3,
   "metadata": {},
   "outputs": [
    {
     "name": "stdout",
     "output_type": "stream",
     "text": [
      "2013-02-08 2018-02-07\n"
     ]
    }
   ],
   "source": [
    "print(df[\"date\"].min(), df[\"date\"].max())"
   ]
  },
  {
   "cell_type": "code",
   "execution_count": 5,
   "metadata": {},
   "outputs": [
    {
     "data": {
      "text/plain": [
       "505"
      ]
     },
     "execution_count": 5,
     "metadata": {},
     "output_type": "execute_result"
    }
   ],
   "source": [
    "df[\"ticker\"].nunique() #505 tickers in data"
   ]
  },
  {
   "cell_type": "markdown",
   "metadata": {},
   "source": [
    "#### Check Missing Trading Data Dates \n",
    "\n",
    "- Not pertinent for the scope of this project -- impute prior day val instead"
   ]
  },
  {
   "cell_type": "code",
   "execution_count": 38,
   "metadata": {},
   "outputs": [
    {
     "name": "stdout",
     "output_type": "stream",
     "text": [
      "1825\n"
     ]
    },
    {
     "data": {
      "text/plain": [
       "365.0"
      ]
     },
     "execution_count": 38,
     "metadata": {},
     "output_type": "execute_result"
    }
   ],
   "source": [
    "# Check num of Days in Range of Data\n",
    "from datetime import datetime\n",
    "\n",
    "def days_between(d1, d2):\n",
    "    d1 = datetime.strptime(d1, \"%Y-%m-%d\")\n",
    "    d2 = datetime.strptime(d2, \"%Y-%m-%d\")\n",
    "    diff = abs((d2 - d1).days)\n",
    "    print(diff)\n",
    "    return diff\n",
    "\n",
    "\n",
    "days_between(\"2018-02-07\", \"2013-02-08\") #1825 days between\n",
    "\n",
    "1825/5 #5 years of data (365 days per year)"
   ]
  },
  {
   "cell_type": "code",
   "execution_count": 8,
   "metadata": {},
   "outputs": [
    {
     "name": "stdout",
     "output_type": "stream",
     "text": [
      "260 weeks and 5 days\n"
     ]
    }
   ],
   "source": [
    "# Get Number of Weeks Between Dates\n",
    "\n",
    "def diff(start, end):\n",
    "    days = pd.to_datetime(end) - pd.to_datetime(start)\n",
    "    week = int(pd.Timedelta(days).days / 7)\n",
    "    remainder = pd.Timedelta(days).days % 7\n",
    "    return str(week) + ' weeks and ' + str(remainder) + ' days'\n",
    "\n",
    "\n",
    "print(diff(aapl[\"date\"].min(), aapl[\"date\"].max()))"
   ]
  },
  {
   "cell_type": "code",
   "execution_count": 25,
   "metadata": {},
   "outputs": [
    {
     "data": {
      "text/html": [
       "<div>\n",
       "<style scoped>\n",
       "    .dataframe tbody tr th:only-of-type {\n",
       "        vertical-align: middle;\n",
       "    }\n",
       "\n",
       "    .dataframe tbody tr th {\n",
       "        vertical-align: top;\n",
       "    }\n",
       "\n",
       "    .dataframe thead th {\n",
       "        text-align: right;\n",
       "    }\n",
       "</style>\n",
       "<table border=\"1\" class=\"dataframe\">\n",
       "  <thead>\n",
       "    <tr style=\"text-align: right;\">\n",
       "      <th></th>\n",
       "      <th>date</th>\n",
       "      <th>open</th>\n",
       "      <th>high</th>\n",
       "      <th>low</th>\n",
       "      <th>close</th>\n",
       "      <th>volume</th>\n",
       "      <th>ticker</th>\n",
       "    </tr>\n",
       "  </thead>\n",
       "  <tbody>\n",
       "    <tr>\n",
       "      <th>1304</th>\n",
       "      <td>2013-02-08</td>\n",
       "      <td>67.7142</td>\n",
       "      <td>68.4014</td>\n",
       "      <td>66.8928</td>\n",
       "      <td>67.8542</td>\n",
       "      <td>158168416</td>\n",
       "      <td>AAPL</td>\n",
       "    </tr>\n",
       "    <tr>\n",
       "      <th>1305</th>\n",
       "      <td>2013-02-11</td>\n",
       "      <td>68.0714</td>\n",
       "      <td>69.2771</td>\n",
       "      <td>67.6071</td>\n",
       "      <td>68.5614</td>\n",
       "      <td>129029425</td>\n",
       "      <td>AAPL</td>\n",
       "    </tr>\n",
       "    <tr>\n",
       "      <th>1306</th>\n",
       "      <td>2013-02-12</td>\n",
       "      <td>68.5014</td>\n",
       "      <td>68.9114</td>\n",
       "      <td>66.8205</td>\n",
       "      <td>66.8428</td>\n",
       "      <td>151829363</td>\n",
       "      <td>AAPL</td>\n",
       "    </tr>\n",
       "    <tr>\n",
       "      <th>1307</th>\n",
       "      <td>2013-02-13</td>\n",
       "      <td>66.7442</td>\n",
       "      <td>67.6628</td>\n",
       "      <td>66.1742</td>\n",
       "      <td>66.7156</td>\n",
       "      <td>118721995</td>\n",
       "      <td>AAPL</td>\n",
       "    </tr>\n",
       "    <tr>\n",
       "      <th>1308</th>\n",
       "      <td>2013-02-14</td>\n",
       "      <td>66.3599</td>\n",
       "      <td>67.3771</td>\n",
       "      <td>66.2885</td>\n",
       "      <td>66.6556</td>\n",
       "      <td>88809154</td>\n",
       "      <td>AAPL</td>\n",
       "    </tr>\n",
       "    <tr>\n",
       "      <th>...</th>\n",
       "      <td>...</td>\n",
       "      <td>...</td>\n",
       "      <td>...</td>\n",
       "      <td>...</td>\n",
       "      <td>...</td>\n",
       "      <td>...</td>\n",
       "      <td>...</td>\n",
       "    </tr>\n",
       "    <tr>\n",
       "      <th>2603</th>\n",
       "      <td>2018-02-01</td>\n",
       "      <td>167.1650</td>\n",
       "      <td>168.6200</td>\n",
       "      <td>166.7600</td>\n",
       "      <td>167.7800</td>\n",
       "      <td>47230787</td>\n",
       "      <td>AAPL</td>\n",
       "    </tr>\n",
       "    <tr>\n",
       "      <th>2604</th>\n",
       "      <td>2018-02-02</td>\n",
       "      <td>166.0000</td>\n",
       "      <td>166.8000</td>\n",
       "      <td>160.1000</td>\n",
       "      <td>160.5000</td>\n",
       "      <td>86593825</td>\n",
       "      <td>AAPL</td>\n",
       "    </tr>\n",
       "    <tr>\n",
       "      <th>2605</th>\n",
       "      <td>2018-02-05</td>\n",
       "      <td>159.1000</td>\n",
       "      <td>163.8800</td>\n",
       "      <td>156.0000</td>\n",
       "      <td>156.4900</td>\n",
       "      <td>72738522</td>\n",
       "      <td>AAPL</td>\n",
       "    </tr>\n",
       "    <tr>\n",
       "      <th>2606</th>\n",
       "      <td>2018-02-06</td>\n",
       "      <td>154.8300</td>\n",
       "      <td>163.7200</td>\n",
       "      <td>154.0000</td>\n",
       "      <td>163.0300</td>\n",
       "      <td>68243838</td>\n",
       "      <td>AAPL</td>\n",
       "    </tr>\n",
       "    <tr>\n",
       "      <th>2607</th>\n",
       "      <td>2018-02-07</td>\n",
       "      <td>163.0850</td>\n",
       "      <td>163.4000</td>\n",
       "      <td>159.0685</td>\n",
       "      <td>159.5400</td>\n",
       "      <td>51608580</td>\n",
       "      <td>AAPL</td>\n",
       "    </tr>\n",
       "  </tbody>\n",
       "</table>\n",
       "<p>1304 rows × 7 columns</p>\n",
       "</div>"
      ],
      "text/plain": [
       "            date      open      high       low     close     volume ticker\n",
       "1304  2013-02-08   67.7142   68.4014   66.8928   67.8542  158168416   AAPL\n",
       "1305  2013-02-11   68.0714   69.2771   67.6071   68.5614  129029425   AAPL\n",
       "1306  2013-02-12   68.5014   68.9114   66.8205   66.8428  151829363   AAPL\n",
       "1307  2013-02-13   66.7442   67.6628   66.1742   66.7156  118721995   AAPL\n",
       "1308  2013-02-14   66.3599   67.3771   66.2885   66.6556   88809154   AAPL\n",
       "...          ...       ...       ...       ...       ...        ...    ...\n",
       "2603  2018-02-01  167.1650  168.6200  166.7600  167.7800   47230787   AAPL\n",
       "2604  2018-02-02  166.0000  166.8000  160.1000  160.5000   86593825   AAPL\n",
       "2605  2018-02-05  159.1000  163.8800  156.0000  156.4900   72738522   AAPL\n",
       "2606  2018-02-06  154.8300  163.7200  154.0000  163.0300   68243838   AAPL\n",
       "2607  2018-02-07  163.0850  163.4000  159.0685  159.5400   51608580   AAPL\n",
       "\n",
       "[1304 rows x 7 columns]"
      ]
     },
     "execution_count": 25,
     "metadata": {},
     "output_type": "execute_result"
    }
   ],
   "source": [
    "1825 * (5/7) #Business Days only in dataset ~1304 days\n",
    "\n",
    "# Matches the Number of days in a Single Stock's Data\n",
    "aapl #1304 Business Days (subsetted df)"
   ]
  },
  {
   "cell_type": "code",
   "execution_count": 41,
   "metadata": {},
   "outputs": [
    {
     "data": {
      "text/plain": [
       "(45, 7)"
      ]
     },
     "execution_count": 41,
     "metadata": {},
     "output_type": "execute_result"
    }
   ],
   "source": [
    "# Check for 0 Trading Volume Days\n",
    "aapl[aapl[\"volume\"] <= 1].shape #45 days with zeroes across board -- impute previous?"
   ]
  },
  {
   "cell_type": "code",
   "execution_count": 62,
   "metadata": {},
   "outputs": [
    {
     "data": {
      "text/html": [
       "<div>\n",
       "<style scoped>\n",
       "    .dataframe tbody tr th:only-of-type {\n",
       "        vertical-align: middle;\n",
       "    }\n",
       "\n",
       "    .dataframe tbody tr th {\n",
       "        vertical-align: top;\n",
       "    }\n",
       "\n",
       "    .dataframe thead th {\n",
       "        text-align: right;\n",
       "    }\n",
       "</style>\n",
       "<table border=\"1\" class=\"dataframe\">\n",
       "  <thead>\n",
       "    <tr style=\"text-align: right;\">\n",
       "      <th></th>\n",
       "      <th>date</th>\n",
       "      <th>open</th>\n",
       "      <th>high</th>\n",
       "      <th>low</th>\n",
       "      <th>close</th>\n",
       "      <th>volume</th>\n",
       "      <th>ticker</th>\n",
       "    </tr>\n",
       "  </thead>\n",
       "  <tbody>\n",
       "    <tr>\n",
       "      <th>1309</th>\n",
       "      <td>2013-02-15</td>\n",
       "      <td>66.9785</td>\n",
       "      <td>67.1656</td>\n",
       "      <td>65.7028</td>\n",
       "      <td>65.7371</td>\n",
       "      <td>97924631</td>\n",
       "      <td>AAPL</td>\n",
       "    </tr>\n",
       "  </tbody>\n",
       "</table>\n",
       "</div>"
      ],
      "text/plain": [
       "           date     open     high      low    close    volume ticker\n",
       "1309 2013-02-15  66.9785  67.1656  65.7028  65.7371  97924631   AAPL"
      ]
     },
     "execution_count": 62,
     "metadata": {},
     "output_type": "execute_result"
    }
   ],
   "source": [
    "aapl[aapl[\"date\"] == \"2013-02-15\"]"
   ]
  },
  {
   "cell_type": "code",
   "execution_count": null,
   "metadata": {},
   "outputs": [],
   "source": [
    "# Get Missing Dates & Check other values\n",
    "from datetime import datetime, timedelta\n",
    "\n",
    "missing_dates = []\n",
    "\n",
    "for i, row in aapl.iterrows():\n",
    "    if row[\"volume\"] == 0:\n",
    "        missing_dates.append(row.iloc[0])\n",
    "        #print(row.values) #Example- ['2013-02-18' 0.0 0.0 0.0 0.0 0 'AAPL']\n",
    "\n",
    "len(missing_dates)\n",
    "\n",
    "\n",
    "# View Missing Dates & Row Prior \n",
    "for date in missing_dates:\n",
    "    day_before = date - timedelta(days=1)\n",
    "    split_df = aapl[aapl[\"date\"] == day_before]\n",
    "    print(day_before)\n",
    "    print(split_df[\"volume\"])"
   ]
  },
  {
   "cell_type": "markdown",
   "metadata": {},
   "source": [
    "## Create Windowed Samples\n",
    "\n",
    "- Each windowed sample contains 20 datapoints that we will pass into the LSTM to predict the next single value (output is a scalar for next value in sequence)"
   ]
  },
  {
   "cell_type": "code",
   "execution_count": 13,
   "metadata": {},
   "outputs": [
    {
     "name": "stdout",
     "output_type": "stream",
     "text": [
      "(1284, 20) (1284,)\n"
     ]
    }
   ],
   "source": [
    "print(X.shape, y.shape)"
   ]
  },
  {
   "cell_type": "code",
   "execution_count": 26,
   "metadata": {},
   "outputs": [
    {
     "data": {
      "text/plain": [
       "(1200, 20)"
      ]
     },
     "execution_count": 26,
     "metadata": {},
     "output_type": "execute_result"
    }
   ],
   "source": [
    "X[:1200], y[:1200].shape\n",
    "X[1200:], y[1200:].shape\n"
   ]
  },
  {
   "cell_type": "code",
   "execution_count": 49,
   "metadata": {},
   "outputs": [
    {
     "name": "stdout",
     "output_type": "stream",
     "text": [
      "Train - Data-(1000, 20, 1) Labels-(1000,)\n",
      " Test - Data-(284, 20, 1) Labels-(284,)\n"
     ]
    }
   ],
   "source": [
    "# Reference Article- https://machinelearningmastery.com/how-to-develop-lstm-models-for-time-series-forecasting/\n",
    "from numpy import array\n",
    "import numpy as np \n",
    "\n",
    "def split_sequence(sequence, n_steps):\n",
    "\tX, y = list(), list()\n",
    "\tfor i in range(len(sequence)):\n",
    "\t\t# find the end of this pattern\n",
    "\t\tend_ix = i + n_steps\n",
    "\t\t# check if we are beyond the sequence\n",
    "\t\tif end_ix > len(sequence)-1:\n",
    "\t\t\tbreak\n",
    "\t\t# Define Input sequence and Output (being data and label)\n",
    "\t\tseq_x, seq_y = sequence[i:end_ix], sequence[end_ix] #up to the last value in the sequence\n",
    "\t\tX.append(seq_x)\n",
    "\t\ty.append(seq_y)\n",
    "\treturn array(X), array(y) #np.arrays\n",
    "\n",
    "\n",
    "# Input Sequence for Windowing -- df is sorted already, so values are in increasing time order (can take last few values as test set)\n",
    "#input_sequence = aapl[\"high\"].to_list()\n",
    "input_sequence = aapl[\"volume\"].to_list() #currently set to Volume\n",
    "\n",
    "\n",
    "# N-Time Steps per Window\n",
    "n_days = 20 #20 days = 4 weeks if 1 month windows (of business days)\n",
    "\n",
    "\n",
    "# Split Sequence into Windows\n",
    "X, y = split_sequence(input_sequence, n_days) #gets data in arrays\n",
    "\n",
    "\n",
    "# Fill All Zeroes with Prior Value\n",
    "while True:\n",
    "\tI = np.nonzero(X==0)[0]\n",
    "\tif len(I)==0: break\n",
    "\tX[I] = X[I-1]\n",
    "\n",
    "\n",
    "# Reshape Dims of Data for LSTM & Split into Train/Test Sets\n",
    "test_set_size = len(X) - 284 #specify test set size and split accordingly\n",
    "X = X.reshape((len(X), n_days, 1)) #reshapes to- (1284, 20, 1) = [samples, timesteps_per_sample, n_features in timestep]\n",
    "X_train, y_train = X[:test_set_size], y[:test_set_size]\n",
    "X_test, y_test =  X[test_set_size:], y[test_set_size:]\n",
    "\n",
    "####-- NEED GET RANDOM SAMPLES FROM TRAINING DATA (4 WEEK DURATION SAMPLES) --####\n",
    "#the sequence of when we pass in training samples does not matter, can pass in at random (and may be a benefit to this \"dataloader\" like method)\n",
    "\n",
    "# View Arrays & Values -- These windows get passed in as input to LSTM!\n",
    "#for i in range(len(X)):\n",
    "#\tprint(X[i], y[i], \"\\n\")\n",
    "\n",
    "\n",
    "# Print dims of Train & Test Sets\n",
    "print(\"Train - Data-{} Labels-{}\".format(X_train.shape, y_train.shape))\n",
    "print(\" Test - Data-{} Labels-{}\".format(X_test.shape, y_test.shape))"
   ]
  },
  {
   "cell_type": "code",
   "execution_count": null,
   "metadata": {},
   "outputs": [],
   "source": [
    "# Investigate Reshaping of y for MinMaxScaler \n",
    "a = np.array([0, 0, 0, 0, 0])\n",
    "print(a.shape)\n",
    "\n",
    "print(a)\n",
    "a.reshape(-1, 1)"
   ]
  },
  {
   "cell_type": "code",
   "execution_count": null,
   "metadata": {},
   "outputs": [],
   "source": [
    "# Testing out Methods to Replace zero values in X\n",
    "import numpy as np \n",
    "\n",
    "\n",
    "np.where(X==0, X[15], X)[0]\n",
    "\n",
    "# Test out on new array -- no go\n",
    "xt = X\n",
    "z = np.nonzero(xt==0.)[0]\n",
    "xt[z] = xt[z-1]\n",
    "\n",
    "# Works!\n",
    "while True:\n",
    "    I=np.nonzero(X==0)[0]\n",
    "    if len(I)==0: break\n",
    "    X[I] = X[I-1]\n",
    "\n",
    "# View Arrays & Values\n",
    "for i in range(len(xt)):\n",
    "\tprint(xt[i], y[i], \"\\n\")"
   ]
  },
  {
   "cell_type": "markdown",
   "metadata": {},
   "source": [
    "## Experimenting with Randomized Windowed Samples\n",
    "\n",
    "- Need get arbitrary number of data samples, can overlap between sequences?"
   ]
  },
  {
   "cell_type": "code",
   "execution_count": 1,
   "metadata": {},
   "outputs": [],
   "source": [
    "from StockDataForLSTM import * "
   ]
  },
  {
   "cell_type": "code",
   "execution_count": 2,
   "metadata": {},
   "outputs": [
    {
     "name": "stdout",
     "output_type": "stream",
     "text": [
      "Train - Data-(4716, 1, 20) Labels-(4716, 1)\n",
      " Test - Data-(284, 1, 20) Labels-(284, 1)\n"
     ]
    }
   ],
   "source": [
    "X_train, y_train, X_test, y_test, _ = readData(data_path=\"../Data Quality (Stocks)/Stocks_Cleaned.csv\", n_days=20, column=\"volume\", ticker=\"AAPL\", normalize=True)"
   ]
  },
  {
   "cell_type": "code",
   "execution_count": 5,
   "metadata": {},
   "outputs": [
    {
     "name": "stdout",
     "output_type": "stream",
     "text": [
      "[(4716, 1, 20), (4716, 1), (284, 1, 20), (284, 1)]\n"
     ]
    }
   ],
   "source": [
    "# Get Output Dimensions for Each new Var\n",
    "\n",
    "print([i.shape for i in [X_train, y_train, X_test, y_test]])\n"
   ]
  },
  {
   "cell_type": "code",
   "execution_count": 8,
   "metadata": {},
   "outputs": [
    {
     "data": {
      "text/plain": [
       "array([[0.09593431, 0.12553019, 0.2442769 , 0.4816854 , 0.37286677,\n",
       "        0.16944198, 0.10705677, 0.17842132, 0.363093  , 0.38038193,\n",
       "        0.14632266, 0.12163395, 0.11262926, 0.08477969, 0.14522489,\n",
       "        0.2332076 , 0.49679499, 0.71851163, 0.43125902, 0.40370132]])"
      ]
     },
     "execution_count": 8,
     "metadata": {},
     "output_type": "execute_result"
    }
   ],
   "source": [
    "X_train[0]"
   ]
  },
  {
   "cell_type": "code",
   "execution_count": null,
   "metadata": {},
   "outputs": [],
   "source": []
  }
 ],
 "metadata": {
  "interpreter": {
   "hash": "5add2f98eb1b25c159bbb703f99a1836452b18263d46213c174eb16a8383dc63"
  },
  "kernelspec": {
   "display_name": "Python 3.9.5 ('base')",
   "language": "python",
   "name": "python3"
  },
  "language_info": {
   "codemirror_mode": {
    "name": "ipython",
    "version": 3
   },
   "file_extension": ".py",
   "mimetype": "text/x-python",
   "name": "python",
   "nbconvert_exporter": "python",
   "pygments_lexer": "ipython3",
   "version": "3.7.11"
  },
  "orig_nbformat": 4
 },
 "nbformat": 4,
 "nbformat_minor": 2
}
